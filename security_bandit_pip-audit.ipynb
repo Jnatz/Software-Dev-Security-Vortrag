{
 "cells": [
  {
   "cell_type": "code",
   "execution_count": 1,
   "metadata": {},
   "outputs": [],
   "source": [
    "import numpy as np\n",
    "import requests\n",
    "import pandas as pd\n",
    "\n",
    "zahlen = [1,18,99]\n",
    "\n",
    "def simple_pandas_stats():\n",
    "    daten = {\n",
    "        \"Name\": [\"Max\", \"Anna\", \"Tim\"],\n",
    "        \"Punkte\": [10, 20, 15]\n",
    "    }\n",
    "    \n",
    "    df = pd.DataFrame(daten)\n",
    "    print(\"Datenübersicht:\")\n",
    "    print(df)\n",
    "\n",
    "    durchschnitt = df[\"Punkte\"].mean()\n",
    "    print(f\"\\nDurchschnittliche Punktzahl: {durchschnitt}\")\n",
    "\n",
    "\n",
    "\n",
    "def average(numbers):\n",
    "    result = np.mean(numbers)\n",
    "    print(f\"Der Mittelwert ist: {result}\")\n",
    "\n",
    "\n",
    "\n",
    "def get_joke():\n",
    "    response = requests.get(\"https://official-joke-api.appspot.com/random_joke\")\n",
    "    if response.status_code == 200:\n",
    "        joke = response.json()\n",
    "        print(f\"{joke['setup']} — {joke['punchline']}\")\n",
    "    else:\n",
    "        print(\"Fehler beim Abrufen des Witzes.\")\n",
    "\n",
    "\n",
    "\n",
    "\n"
   ]
  },
  {
   "cell_type": "code",
   "execution_count": 2,
   "metadata": {},
   "outputs": [
    {
     "name": "stdout",
     "output_type": "stream",
     "text": [
      "Datenübersicht:\n",
      "   Name  Punkte\n",
      "0   Max      10\n",
      "1  Anna      20\n",
      "2   Tim      15\n",
      "\n",
      "Durchschnittliche Punktzahl: 15.0\n"
     ]
    }
   ],
   "source": [
    "simple_pandas_stats()\n"
   ]
  },
  {
   "cell_type": "code",
   "execution_count": 3,
   "metadata": {},
   "outputs": [
    {
     "name": "stdout",
     "output_type": "stream",
     "text": [
      "Der Mittelwert ist: 39.333333333333336\n"
     ]
    }
   ],
   "source": [
    "average(zahlen)"
   ]
  },
  {
   "cell_type": "code",
   "execution_count": 4,
   "metadata": {},
   "outputs": [
    {
     "name": "stdout",
     "output_type": "stream",
     "text": [
      "What’s the difference between an African elephant and an Indian elephant? — About 5000 miles.\n"
     ]
    }
   ],
   "source": [
    "get_joke()"
   ]
  },
  {
   "cell_type": "code",
   "execution_count": null,
   "metadata": {},
   "outputs": [],
   "source": []
  }
 ],
 "metadata": {
  "kernelspec": {
   "display_name": "Python 3",
   "language": "python",
   "name": "python3"
  },
  "language_info": {
   "codemirror_mode": {
    "name": "ipython",
    "version": 3
   },
   "file_extension": ".py",
   "mimetype": "text/x-python",
   "name": "python",
   "nbconvert_exporter": "python",
   "pygments_lexer": "ipython3",
   "version": "3.13.0"
  }
 },
 "nbformat": 4,
 "nbformat_minor": 2
}
